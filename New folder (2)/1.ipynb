{
 "cells": [
  {
   "cell_type": "code",
   "execution_count": null,
   "metadata": {},
   "outputs": [],
   "source": [
    "class Tilted:\n",
    "\n",
    "def _init_(self):\n",
    "    \n",
    "    print(\"Tilted\")\n",
    "    \n",
    "obj=Tilted()\n",
    "\n"
   ]
  },
  {
   "cell_type": "code",
   "execution_count": 4,
   "metadata": {},
   "outputs": [
    {
     "name": "stdout",
     "output_type": "stream",
     "text": [
      "6\n"
     ]
    }
   ],
   "source": [
    "def mult(a,b):\n",
    "  \n",
    "    res= a *b\n",
    "    return res\n",
    "    \n",
    "\n",
    "def printing():\n",
    "    a = int(input(\"enter a negative decimal number:\"))\n",
    "    b =int(input(\"enter anothere fnegative number:\"))\n",
    "    but = mult(a,b)\n",
    "    print(but)\n",
    "    \n",
    "printing()"
   ]
  }
 ],
 "metadata": {
  "kernelspec": {
   "display_name": "Python 3",
   "language": "python",
   "name": "python3"
  },
  "language_info": {
   "codemirror_mode": {
    "name": "ipython",
    "version": 3
   },
   "file_extension": ".py",
   "mimetype": "text/x-python",
   "name": "python",
   "nbconvert_exporter": "python",
   "pygments_lexer": "ipython3",
   "version": "3.6.5"
  }
 },
 "nbformat": 4,
 "nbformat_minor": 2
}
